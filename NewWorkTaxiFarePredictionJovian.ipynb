{
  "cells": [
    {
      "cell_type": "markdown",
      "metadata": {
        "id": "view-in-github",
        "colab_type": "text"
      },
      "source": [
        "<a href=\"https://colab.research.google.com/github/AhmedAlshoki/NewYork-City-Taxi-fare-Predictions/blob/main/NewWorkTaxiFarePredictionJovian.ipynb\" target=\"_parent\"><img src=\"https://colab.research.google.com/assets/colab-badge.svg\" alt=\"Open In Colab\"/></a>"
      ]
    },
    {
      "cell_type": "code",
      "execution_count": null,
      "metadata": {
        "id": "KvE5ECW7CCTY"
      },
      "outputs": [],
      "source": [
        "# Jovian Commit Essentials\n",
        "# Please retain and execute this cell without modifying the contents for `jovian.commit` to work\n",
        "!pip install jovian --upgrade -q\n",
        "import jovian\n",
        "jovian.set_project('newworktaxifareprediction')\n",
        "jovian.set_colab_id('1ph14n_sqR0CTvrr7occdY7JUmfw5-WUS')"
      ]
    },
    {
      "cell_type": "code",
      "execution_count": null,
      "metadata": {
        "id": "6-Voo8NGIab5"
      },
      "outputs": [],
      "source": [
        "#!pip install opendatasets scikit-learn "
      ]
    },
    {
      "cell_type": "code",
      "execution_count": null,
      "metadata": {
        "id": "eAkGe2kFNdR3"
      },
      "outputs": [],
      "source": [
        "#data_url = 'https://www.kaggle.com/competitions/new-york-city-taxi-fare-prediction'\n",
        "#od.download(data_url)"
      ]
    },
    {
      "cell_type": "code",
      "execution_count": null,
      "metadata": {
        "colab": {
          "base_uri": "https://localhost:8080/"
        },
        "id": "Y99hwwS6n13t",
        "outputId": "2f21d92c-9c7b-4f40-cc57-f53c1d3f3541"
      },
      "outputs": [
        {
          "name": "stdout",
          "output_type": "stream",
          "text": [
            "Mounted at /content/drive\n"
          ]
        }
      ],
      "source": [
        "from google.colab import drive\n",
        "drive.mount('/content/drive')"
      ]
    },
    {
      "cell_type": "code",
      "execution_count": null,
      "metadata": {
        "id": "1sDBMcpwHYUz"
      },
      "outputs": [],
      "source": [
        "import numpy as np\n",
        "import pandas as pd\n",
        "#import opendatasets as od\n",
        "from tqdm import tqdm\n",
        "import jovian as jovian"
      ]
    },
    {
      "cell_type": "code",
      "execution_count": null,
      "metadata": {
        "id": "4ztzypKWOUIw"
      },
      "outputs": [],
      "source": [
        "data_dir = '/content/drive/MyDrive/Kaggle/new-york-city-taxi-fare-prediction'"
      ]
    },
    {
      "cell_type": "code",
      "execution_count": null,
      "metadata": {
        "id": "TOKgGGe1UOyz"
      },
      "outputs": [],
      "source": [
        "selected_cols= 'key,fare_amount,pickup_datetime,pickup_longitude,pickup_latitude,dropoff_longitude,dropoff_latitude,passenger_count'.split(',')\n",
        "dtypes = {\n",
        " 'fare_amount':'float32',\n",
        " 'pickup_longitude':'float32',\n",
        " 'pickup_latitude':'float32',\n",
        " 'dropoff_longitude':'float32',\n",
        " 'dropoff_latitude':'float32',\n",
        " 'passenger_count':'uint8'\n",
        "}"
      ]
    },
    {
      "cell_type": "code",
      "execution_count": null,
      "metadata": {
        "id": "Q9hBD90C4T_L"
      },
      "outputs": [],
      "source": [
        "def coerce(x,min,max):\n",
        "    if x <= max:\n",
        "        return max\n",
        "    elif x >= min:\n",
        "        return min"
      ]
    },
    {
      "cell_type": "code",
      "execution_count": null,
      "metadata": {
        "id": "yYGbSEuHhNAu"
      },
      "outputs": [],
      "source": [
        "def Calculate_Distance(x1,y1,x2,y2):\n",
        "   Horizontal_Distance = x2-x1\n",
        "   Vertical_Distance = y2-y1\n",
        "   Square_distace = (Horizontal_Distance*Horizontal_Distance)+(Vertical_Distance*Vertical_Distance)\n",
        "   \n",
        "   return Square_distace"
      ]
    },
    {
      "cell_type": "code",
      "execution_count": null,
      "metadata": {
        "id": "ORx8cR7ZsKST"
      },
      "outputs": [],
      "source": [
        "def prepare_train_set(train_set):\n",
        "   train_set['passenger_count']  = train_set['passenger_count'].fillna(np.mean(train_set['passenger_count']) if np.mean(train_set['passenger_count'])!=None else 0)\n",
        "   train_set['passenger_count']= train_set.apply(lambda row: coerce(row['passenger_count'],1,6), axis=1)\n",
        "   #============\n",
        "   train_set['pickup_longitude']  = train_set['pickup_longitude'].fillna(np.mean(train_set['pickup_longitude']) if np.mean(train_set['pickup_longitude'])!=None else 0)\n",
        "   train_set['pickup_longitude']= train_set.apply(lambda row: coerce(row['pickup_longitude'],-75.0,-72.0), axis=1)\n",
        "   #===========\n",
        "   train_set['pickup_latitude']  = train_set['pickup_latitude'].fillna(np.mean(train_set['pickup_latitude']) if np.mean(train_set['pickup_latitude'])!=None else 0)\n",
        "   train_set['pickup_latitude']= train_set.apply(lambda row: coerce(row['pickup_latitude'],39.0,40.0), axis=1)\n",
        "   #========\n",
        "   train_set['dropoff_longitude']  = train_set['dropoff_longitude'].fillna(np.mean(train_set['dropoff_longitude']) if np.mean(train_set['dropoff_longitude'])!=None else 0)\n",
        "   train_set['dropoff_longitude']= train_set.apply(lambda row: coerce(row['dropoff_longitude'],-75.0,-72.0), axis=1)\n",
        "   #===========\n",
        "   train_set['dropoff_latitude']  = train_set['dropoff_latitude'].fillna(np.mean(train_set['dropoff_latitude']) if np.mean(train_set['dropoff_latitude'])!=None else 0)\n",
        "   train_set['dropoff_latitude']= train_set.apply(lambda row: coerce(row['dropoff_latitude'],39.0,40.0), axis=1)\n",
        "   try :\n",
        "    train_set['fare_amount'] = detect_outliers(train_set['fare_amount'])\n",
        "    train_set['fare_amount']= train_set.apply(lambda row: coerce(row['fare_amount'],1.0,500.0), axis=1)\n",
        "   except:\n",
        "    pass\n",
        "   #============================================================================\n",
        "   train_set['Distance of the trip'] = Calculate_Distance(train_set['pickup_longitude'],train_set['pickup_latitude'],\n",
        "                                                          train_set['dropoff_longitude'],train_set['dropoff_latitude'])\n",
        "   train_set.drop(['pickup_longitude','pickup_latitude','dropoff_longitude','dropoff_latitude'],axis=1, inplace=True)\n",
        "   #=======================================================\n",
        "   train_set['pickup_datetime Year'] = pd.DatetimeIndex(train_set['pickup_datetime']).year\n",
        "   train_set['pickup_datetime Year']  = train_set['pickup_datetime Year'].fillna(np.mean(train_set['pickup_datetime Year']))\n",
        "   train_set['pickup_datetime Month'] = pd.DatetimeIndex(train_set['pickup_datetime']).month\n",
        "   train_set['pickup_datetime Month']  = train_set['pickup_datetime Month'].fillna(np.mean(train_set['pickup_datetime Month']))\n",
        "   train_set['pickup_datetime Day'] = pd.DatetimeIndex(train_set['pickup_datetime']).day\n",
        "   train_set['pickup_datetime Day']  = train_set['pickup_datetime Day'].fillna(np.mean(train_set['pickup_datetime Day']))\n",
        "   train_set['pickup_datetime Hour'] = pd.DatetimeIndex(train_set['pickup_datetime']).hour\n",
        "   train_set['pickup_datetime Hour']  = train_set['pickup_datetime Hour'].fillna(np.mean(train_set['pickup_datetime Hour']))\n",
        "   train_set['pickup_datetime Mintues'] = pd.DatetimeIndex(train_set['pickup_datetime']).minute\n",
        "   train_set['pickup_datetime Mintues']  = train_set['pickup_datetime Mintues'].fillna(np.mean(train_set['pickup_datetime Mintues']))\n",
        "   train_set.drop('pickup_datetime',axis=1, inplace=True) \n",
        "   return train_set"
      ]
    },
    {
      "cell_type": "code",
      "execution_count": null,
      "metadata": {
        "id": "83AJpEWym24Y"
      },
      "outputs": [],
      "source": [
        "from tqdm import tqdm\n",
        "from sklearn.preprocessing import PolynomialFeatures\n",
        "from sklearn.linear_model import LinearRegression\n",
        "import sklearn.metrics as metrics\n",
        "import pickle"
      ]
    },
    {
      "cell_type": "code",
      "execution_count": null,
      "metadata": {
        "colab": {
          "base_uri": "https://localhost:8080/",
          "height": 122
        },
        "id": "mrPiEvV-Seso",
        "outputId": "11549d56-aecb-4c88-e5a1-4149cc47b596"
      },
      "outputs": [
        {
          "name": "stdout",
          "output_type": "stream",
          "text": [
            "[jovian] Detected Colab notebook...\u001b[0m\n",
            "[jovian] Please enter your API key ( from https://jovian.ai/ ):\u001b[0m\n",
            "API KEY: ··········\n",
            "[jovian] Uploading colab notebook to Jovian...\u001b[0m\n",
            "Committed successfully! https://jovian.ai/ahmedalshoki/newworktaxifareprediction\n"
          ]
        },
        {
          "data": {
            "application/vnd.google.colaboratory.intrinsic+json": {
              "type": "string"
            },
            "text/plain": [
              "'https://jovian.ai/ahmedalshoki/newworktaxifareprediction'"
            ]
          },
          "execution_count": 10,
          "metadata": {},
          "output_type": "execute_result"
        }
      ],
      "source": [
        "jovian.commit()"
      ]
    },
    {
      "cell_type": "markdown",
      "metadata": {
        "id": "b3Xhgy6G8VAk"
      },
      "source": [
        "Train Model"
      ]
    },
    {
      "cell_type": "code",
      "execution_count": null,
      "metadata": {
        "id": "cxY6axhuKyYO"
      },
      "outputs": [],
      "source": [
        "for i in range (0,56):\n",
        "    train_set_chunk = pd.read_csv(data_dir+'/train.csv',nrows=1000000,skiprows=100000*i,parse_dates=[2])\n",
        "    train_set_chunk.columns = selected_cols\n",
        "    train_set_chunk = prepare_train_set(train_set_chunk)\n",
        "    target = train_set_chunk.pop('fare_amount')\n",
        "    train_set_chunk.drop('key',axis=1, inplace=True) \n",
        "    poly = PolynomialFeatures(degree=3, include_bias=False)\n",
        "    print(i)\n",
        "    poly_features = poly.fit_transform(train_set_chunk)\n",
        "    try:\n",
        "        model = pickle.load(open(data_dir+'/PolynomialRegression.sav', \"rb\"))\n",
        "        model.fit(poly_features,np.array(target))\n",
        "        filename_path = data_dir+'/PolynomialRegression.sav'\n",
        "        pickle.dump(model, open(filename_path, 'wb')) \n",
        "    except:  \n",
        "        model = LinearRegression()\n",
        "        model.fit(poly_features,np.array(target))\n",
        "        filename_path = data_dir+'/PolynomialRegression.sav'\n",
        "        pickle.dump(model, open(filename_path, 'wb'))    \n",
        "    del train_set_chunk    "
      ]
    },
    {
      "cell_type": "code",
      "execution_count": null,
      "metadata": {
        "colab": {
          "background_save": true
        },
        "id": "IPckHaoDRG-B",
        "outputId": "841c6f37-dc61-49f3-d441-d4fbc48bbed2"
      },
      "outputs": [
        {
          "name": "stdout",
          "output_type": "stream",
          "text": [
            "[jovian] Detected Colab notebook...\u001b[0m\n",
            "[jovian] Uploading colab notebook to Jovian...\u001b[0m\n",
            "Committed successfully! https://jovian.ai/ahmedalshoki/newworktaxifareprediction\n"
          ]
        },
        {
          "data": {
            "application/vnd.google.colaboratory.intrinsic+json": {
              "type": "string"
            },
            "text/plain": [
              "'https://jovian.ai/ahmedalshoki/newworktaxifareprediction'"
            ]
          },
          "execution_count": null,
          "metadata": {},
          "output_type": "execute_result"
        }
      ],
      "source": [
        "jovian.commit()"
      ]
    },
    {
      "cell_type": "code",
      "execution_count": null,
      "metadata": {
        "id": "YQi-MbaxtFOi"
      },
      "outputs": [],
      "source": [
        "test_set = pd.read_csv(data_dir+'/test.csv',parse_dates=['pickup_datetime'])\n",
        "sample_submission = pd.read_csv(data_dir+'/sample_submission.csv')"
      ]
    },
    {
      "cell_type": "code",
      "execution_count": null,
      "metadata": {
        "id": "IV9fbJWnwzu8"
      },
      "outputs": [],
      "source": [
        "sample_submission"
      ]
    },
    {
      "cell_type": "code",
      "execution_count": null,
      "metadata": {
        "colab": {
          "base_uri": "https://localhost:8080/",
          "height": 424
        },
        "id": "5RGGF6HuzKaj",
        "outputId": "b2b02e9c-3581-4bb9-c007-04deb8f78bb5"
      },
      "outputs": [
        {
          "data": {
            "text/html": [
              "\n",
              "  <div id=\"df-92e81cf9-8c32-46de-ab33-c336b014bcda\">\n",
              "    <div class=\"colab-df-container\">\n",
              "      <div>\n",
              "<style scoped>\n",
              "    .dataframe tbody tr th:only-of-type {\n",
              "        vertical-align: middle;\n",
              "    }\n",
              "\n",
              "    .dataframe tbody tr th {\n",
              "        vertical-align: top;\n",
              "    }\n",
              "\n",
              "    .dataframe thead th {\n",
              "        text-align: right;\n",
              "    }\n",
              "</style>\n",
              "<table border=\"1\" class=\"dataframe\">\n",
              "  <thead>\n",
              "    <tr style=\"text-align: right;\">\n",
              "      <th></th>\n",
              "      <th>key</th>\n",
              "      <th>pickup_datetime</th>\n",
              "      <th>pickup_longitude</th>\n",
              "      <th>pickup_latitude</th>\n",
              "      <th>dropoff_longitude</th>\n",
              "      <th>dropoff_latitude</th>\n",
              "      <th>passenger_count</th>\n",
              "    </tr>\n",
              "  </thead>\n",
              "  <tbody>\n",
              "    <tr>\n",
              "      <th>0</th>\n",
              "      <td>2015-01-27 13:08:24.0000002</td>\n",
              "      <td>2015-01-27 13:08:24+00:00</td>\n",
              "      <td>-73.973320</td>\n",
              "      <td>40.763805</td>\n",
              "      <td>-73.981430</td>\n",
              "      <td>40.743835</td>\n",
              "      <td>1</td>\n",
              "    </tr>\n",
              "    <tr>\n",
              "      <th>1</th>\n",
              "      <td>2015-01-27 13:08:24.0000003</td>\n",
              "      <td>2015-01-27 13:08:24+00:00</td>\n",
              "      <td>-73.986862</td>\n",
              "      <td>40.719383</td>\n",
              "      <td>-73.998886</td>\n",
              "      <td>40.739201</td>\n",
              "      <td>1</td>\n",
              "    </tr>\n",
              "    <tr>\n",
              "      <th>2</th>\n",
              "      <td>2011-10-08 11:53:44.0000002</td>\n",
              "      <td>2011-10-08 11:53:44+00:00</td>\n",
              "      <td>-73.982524</td>\n",
              "      <td>40.751260</td>\n",
              "      <td>-73.979654</td>\n",
              "      <td>40.746139</td>\n",
              "      <td>1</td>\n",
              "    </tr>\n",
              "    <tr>\n",
              "      <th>3</th>\n",
              "      <td>2012-12-01 21:12:12.0000002</td>\n",
              "      <td>2012-12-01 21:12:12+00:00</td>\n",
              "      <td>-73.981160</td>\n",
              "      <td>40.767807</td>\n",
              "      <td>-73.990448</td>\n",
              "      <td>40.751635</td>\n",
              "      <td>1</td>\n",
              "    </tr>\n",
              "    <tr>\n",
              "      <th>4</th>\n",
              "      <td>2012-12-01 21:12:12.0000003</td>\n",
              "      <td>2012-12-01 21:12:12+00:00</td>\n",
              "      <td>-73.966046</td>\n",
              "      <td>40.789775</td>\n",
              "      <td>-73.988565</td>\n",
              "      <td>40.744427</td>\n",
              "      <td>1</td>\n",
              "    </tr>\n",
              "    <tr>\n",
              "      <th>...</th>\n",
              "      <td>...</td>\n",
              "      <td>...</td>\n",
              "      <td>...</td>\n",
              "      <td>...</td>\n",
              "      <td>...</td>\n",
              "      <td>...</td>\n",
              "      <td>...</td>\n",
              "    </tr>\n",
              "    <tr>\n",
              "      <th>9909</th>\n",
              "      <td>2015-05-10 12:37:51.0000002</td>\n",
              "      <td>2015-05-10 12:37:51+00:00</td>\n",
              "      <td>-73.968124</td>\n",
              "      <td>40.796997</td>\n",
              "      <td>-73.955643</td>\n",
              "      <td>40.780388</td>\n",
              "      <td>6</td>\n",
              "    </tr>\n",
              "    <tr>\n",
              "      <th>9910</th>\n",
              "      <td>2015-01-12 17:05:51.0000001</td>\n",
              "      <td>2015-01-12 17:05:51+00:00</td>\n",
              "      <td>-73.945511</td>\n",
              "      <td>40.803600</td>\n",
              "      <td>-73.960213</td>\n",
              "      <td>40.776371</td>\n",
              "      <td>6</td>\n",
              "    </tr>\n",
              "    <tr>\n",
              "      <th>9911</th>\n",
              "      <td>2015-04-19 20:44:15.0000001</td>\n",
              "      <td>2015-04-19 20:44:15+00:00</td>\n",
              "      <td>-73.991600</td>\n",
              "      <td>40.726608</td>\n",
              "      <td>-73.789742</td>\n",
              "      <td>40.647011</td>\n",
              "      <td>6</td>\n",
              "    </tr>\n",
              "    <tr>\n",
              "      <th>9912</th>\n",
              "      <td>2015-01-31 01:05:19.0000005</td>\n",
              "      <td>2015-01-31 01:05:19+00:00</td>\n",
              "      <td>-73.985573</td>\n",
              "      <td>40.735432</td>\n",
              "      <td>-73.939178</td>\n",
              "      <td>40.801731</td>\n",
              "      <td>6</td>\n",
              "    </tr>\n",
              "    <tr>\n",
              "      <th>9913</th>\n",
              "      <td>2015-01-18 14:06:23.0000006</td>\n",
              "      <td>2015-01-18 14:06:23+00:00</td>\n",
              "      <td>-73.988022</td>\n",
              "      <td>40.754070</td>\n",
              "      <td>-74.000282</td>\n",
              "      <td>40.759220</td>\n",
              "      <td>6</td>\n",
              "    </tr>\n",
              "  </tbody>\n",
              "</table>\n",
              "<p>9914 rows × 7 columns</p>\n",
              "</div>\n",
              "      <button class=\"colab-df-convert\" onclick=\"convertToInteractive('df-92e81cf9-8c32-46de-ab33-c336b014bcda')\"\n",
              "              title=\"Convert this dataframe to an interactive table.\"\n",
              "              style=\"display:none;\">\n",
              "        \n",
              "  <svg xmlns=\"http://www.w3.org/2000/svg\" height=\"24px\"viewBox=\"0 0 24 24\"\n",
              "       width=\"24px\">\n",
              "    <path d=\"M0 0h24v24H0V0z\" fill=\"none\"/>\n",
              "    <path d=\"M18.56 5.44l.94 2.06.94-2.06 2.06-.94-2.06-.94-.94-2.06-.94 2.06-2.06.94zm-11 1L8.5 8.5l.94-2.06 2.06-.94-2.06-.94L8.5 2.5l-.94 2.06-2.06.94zm10 10l.94 2.06.94-2.06 2.06-.94-2.06-.94-.94-2.06-.94 2.06-2.06.94z\"/><path d=\"M17.41 7.96l-1.37-1.37c-.4-.4-.92-.59-1.43-.59-.52 0-1.04.2-1.43.59L10.3 9.45l-7.72 7.72c-.78.78-.78 2.05 0 2.83L4 21.41c.39.39.9.59 1.41.59.51 0 1.02-.2 1.41-.59l7.78-7.78 2.81-2.81c.8-.78.8-2.07 0-2.86zM5.41 20L4 18.59l7.72-7.72 1.47 1.35L5.41 20z\"/>\n",
              "  </svg>\n",
              "      </button>\n",
              "      \n",
              "  <style>\n",
              "    .colab-df-container {\n",
              "      display:flex;\n",
              "      flex-wrap:wrap;\n",
              "      gap: 12px;\n",
              "    }\n",
              "\n",
              "    .colab-df-convert {\n",
              "      background-color: #E8F0FE;\n",
              "      border: none;\n",
              "      border-radius: 50%;\n",
              "      cursor: pointer;\n",
              "      display: none;\n",
              "      fill: #1967D2;\n",
              "      height: 32px;\n",
              "      padding: 0 0 0 0;\n",
              "      width: 32px;\n",
              "    }\n",
              "\n",
              "    .colab-df-convert:hover {\n",
              "      background-color: #E2EBFA;\n",
              "      box-shadow: 0px 1px 2px rgba(60, 64, 67, 0.3), 0px 1px 3px 1px rgba(60, 64, 67, 0.15);\n",
              "      fill: #174EA6;\n",
              "    }\n",
              "\n",
              "    [theme=dark] .colab-df-convert {\n",
              "      background-color: #3B4455;\n",
              "      fill: #D2E3FC;\n",
              "    }\n",
              "\n",
              "    [theme=dark] .colab-df-convert:hover {\n",
              "      background-color: #434B5C;\n",
              "      box-shadow: 0px 1px 3px 1px rgba(0, 0, 0, 0.15);\n",
              "      filter: drop-shadow(0px 1px 2px rgba(0, 0, 0, 0.3));\n",
              "      fill: #FFFFFF;\n",
              "    }\n",
              "  </style>\n",
              "\n",
              "      <script>\n",
              "        const buttonEl =\n",
              "          document.querySelector('#df-92e81cf9-8c32-46de-ab33-c336b014bcda button.colab-df-convert');\n",
              "        buttonEl.style.display =\n",
              "          google.colab.kernel.accessAllowed ? 'block' : 'none';\n",
              "\n",
              "        async function convertToInteractive(key) {\n",
              "          const element = document.querySelector('#df-92e81cf9-8c32-46de-ab33-c336b014bcda');\n",
              "          const dataTable =\n",
              "            await google.colab.kernel.invokeFunction('convertToInteractive',\n",
              "                                                     [key], {});\n",
              "          if (!dataTable) return;\n",
              "\n",
              "          const docLinkHtml = 'Like what you see? Visit the ' +\n",
              "            '<a target=\"_blank\" href=https://colab.research.google.com/notebooks/data_table.ipynb>data table notebook</a>'\n",
              "            + ' to learn more about interactive tables.';\n",
              "          element.innerHTML = '';\n",
              "          dataTable['output_type'] = 'display_data';\n",
              "          await google.colab.output.renderOutput(dataTable, element);\n",
              "          const docLink = document.createElement('div');\n",
              "          docLink.innerHTML = docLinkHtml;\n",
              "          element.appendChild(docLink);\n",
              "        }\n",
              "      </script>\n",
              "    </div>\n",
              "  </div>\n",
              "  "
            ],
            "text/plain": [
              "                              key           pickup_datetime  pickup_longitude  \\\n",
              "0     2015-01-27 13:08:24.0000002 2015-01-27 13:08:24+00:00        -73.973320   \n",
              "1     2015-01-27 13:08:24.0000003 2015-01-27 13:08:24+00:00        -73.986862   \n",
              "2     2011-10-08 11:53:44.0000002 2011-10-08 11:53:44+00:00        -73.982524   \n",
              "3     2012-12-01 21:12:12.0000002 2012-12-01 21:12:12+00:00        -73.981160   \n",
              "4     2012-12-01 21:12:12.0000003 2012-12-01 21:12:12+00:00        -73.966046   \n",
              "...                           ...                       ...               ...   \n",
              "9909  2015-05-10 12:37:51.0000002 2015-05-10 12:37:51+00:00        -73.968124   \n",
              "9910  2015-01-12 17:05:51.0000001 2015-01-12 17:05:51+00:00        -73.945511   \n",
              "9911  2015-04-19 20:44:15.0000001 2015-04-19 20:44:15+00:00        -73.991600   \n",
              "9912  2015-01-31 01:05:19.0000005 2015-01-31 01:05:19+00:00        -73.985573   \n",
              "9913  2015-01-18 14:06:23.0000006 2015-01-18 14:06:23+00:00        -73.988022   \n",
              "\n",
              "      pickup_latitude  dropoff_longitude  dropoff_latitude  passenger_count  \n",
              "0           40.763805         -73.981430         40.743835                1  \n",
              "1           40.719383         -73.998886         40.739201                1  \n",
              "2           40.751260         -73.979654         40.746139                1  \n",
              "3           40.767807         -73.990448         40.751635                1  \n",
              "4           40.789775         -73.988565         40.744427                1  \n",
              "...               ...                ...               ...              ...  \n",
              "9909        40.796997         -73.955643         40.780388                6  \n",
              "9910        40.803600         -73.960213         40.776371                6  \n",
              "9911        40.726608         -73.789742         40.647011                6  \n",
              "9912        40.735432         -73.939178         40.801731                6  \n",
              "9913        40.754070         -74.000282         40.759220                6  \n",
              "\n",
              "[9914 rows x 7 columns]"
            ]
          },
          "execution_count": 13,
          "metadata": {},
          "output_type": "execute_result"
        }
      ],
      "source": [
        "test_set"
      ]
    },
    {
      "cell_type": "code",
      "execution_count": null,
      "metadata": {
        "id": "Xkl3Z3kwB-pc"
      },
      "outputs": [],
      "source": [
        "model = pickle.load(open(data_dir+'/PolynomialRegression.sav', \"rb\"))\n",
        "keys = test_set.pop('key')\n",
        "test_set = prepare_train_set(test_set)\n",
        "poly = PolynomialFeatures(degree=3, include_bias=False)\n",
        "poly_features = poly.fit_transform(test_set)\n",
        "test_predection = model.predict(np.array(poly_features))\n",
        "test_predection = np.array(test_predection).reshape(-1,1)\n",
        "test_predection = test_predection.ravel()\n",
        "test_pred = pd.Series(test_predection)\n",
        "test_set['fare_amount'] = test_pred\n",
        "test_set['key'] = keys"
      ]
    },
    {
      "cell_type": "code",
      "execution_count": null,
      "metadata": {
        "id": "tYaAqAGIwa2v"
      },
      "outputs": [],
      "source": [
        "sample_submission['fare_amount_prediction'] = test_pred"
      ]
    },
    {
      "cell_type": "code",
      "execution_count": null,
      "metadata": {
        "colab": {
          "base_uri": "https://localhost:8080/",
          "height": 300
        },
        "id": "-m_DWI84zbqo",
        "outputId": "9f5e8099-a970-489c-f793-29f84727f5ff"
      },
      "outputs": [
        {
          "data": {
            "text/html": [
              "\n",
              "  <div id=\"df-f0c92092-d302-42bf-87b1-743de570085f\">\n",
              "    <div class=\"colab-df-container\">\n",
              "      <div>\n",
              "<style scoped>\n",
              "    .dataframe tbody tr th:only-of-type {\n",
              "        vertical-align: middle;\n",
              "    }\n",
              "\n",
              "    .dataframe tbody tr th {\n",
              "        vertical-align: top;\n",
              "    }\n",
              "\n",
              "    .dataframe thead th {\n",
              "        text-align: right;\n",
              "    }\n",
              "</style>\n",
              "<table border=\"1\" class=\"dataframe\">\n",
              "  <thead>\n",
              "    <tr style=\"text-align: right;\">\n",
              "      <th></th>\n",
              "      <th>fare_amount</th>\n",
              "      <th>fare_amount_prediction</th>\n",
              "    </tr>\n",
              "  </thead>\n",
              "  <tbody>\n",
              "    <tr>\n",
              "      <th>count</th>\n",
              "      <td>9.914000e+03</td>\n",
              "      <td>9914.000000</td>\n",
              "    </tr>\n",
              "    <tr>\n",
              "      <th>mean</th>\n",
              "      <td>1.135000e+01</td>\n",
              "      <td>11.395892</td>\n",
              "    </tr>\n",
              "    <tr>\n",
              "      <th>std</th>\n",
              "      <td>3.552893e-15</td>\n",
              "      <td>1.246870</td>\n",
              "    </tr>\n",
              "    <tr>\n",
              "      <th>min</th>\n",
              "      <td>1.135000e+01</td>\n",
              "      <td>8.956850</td>\n",
              "    </tr>\n",
              "    <tr>\n",
              "      <th>25%</th>\n",
              "      <td>1.135000e+01</td>\n",
              "      <td>10.322251</td>\n",
              "    </tr>\n",
              "    <tr>\n",
              "      <th>50%</th>\n",
              "      <td>1.135000e+01</td>\n",
              "      <td>10.960687</td>\n",
              "    </tr>\n",
              "    <tr>\n",
              "      <th>75%</th>\n",
              "      <td>1.135000e+01</td>\n",
              "      <td>12.663439</td>\n",
              "    </tr>\n",
              "    <tr>\n",
              "      <th>max</th>\n",
              "      <td>1.135000e+01</td>\n",
              "      <td>13.805783</td>\n",
              "    </tr>\n",
              "  </tbody>\n",
              "</table>\n",
              "</div>\n",
              "      <button class=\"colab-df-convert\" onclick=\"convertToInteractive('df-f0c92092-d302-42bf-87b1-743de570085f')\"\n",
              "              title=\"Convert this dataframe to an interactive table.\"\n",
              "              style=\"display:none;\">\n",
              "        \n",
              "  <svg xmlns=\"http://www.w3.org/2000/svg\" height=\"24px\"viewBox=\"0 0 24 24\"\n",
              "       width=\"24px\">\n",
              "    <path d=\"M0 0h24v24H0V0z\" fill=\"none\"/>\n",
              "    <path d=\"M18.56 5.44l.94 2.06.94-2.06 2.06-.94-2.06-.94-.94-2.06-.94 2.06-2.06.94zm-11 1L8.5 8.5l.94-2.06 2.06-.94-2.06-.94L8.5 2.5l-.94 2.06-2.06.94zm10 10l.94 2.06.94-2.06 2.06-.94-2.06-.94-.94-2.06-.94 2.06-2.06.94z\"/><path d=\"M17.41 7.96l-1.37-1.37c-.4-.4-.92-.59-1.43-.59-.52 0-1.04.2-1.43.59L10.3 9.45l-7.72 7.72c-.78.78-.78 2.05 0 2.83L4 21.41c.39.39.9.59 1.41.59.51 0 1.02-.2 1.41-.59l7.78-7.78 2.81-2.81c.8-.78.8-2.07 0-2.86zM5.41 20L4 18.59l7.72-7.72 1.47 1.35L5.41 20z\"/>\n",
              "  </svg>\n",
              "      </button>\n",
              "      \n",
              "  <style>\n",
              "    .colab-df-container {\n",
              "      display:flex;\n",
              "      flex-wrap:wrap;\n",
              "      gap: 12px;\n",
              "    }\n",
              "\n",
              "    .colab-df-convert {\n",
              "      background-color: #E8F0FE;\n",
              "      border: none;\n",
              "      border-radius: 50%;\n",
              "      cursor: pointer;\n",
              "      display: none;\n",
              "      fill: #1967D2;\n",
              "      height: 32px;\n",
              "      padding: 0 0 0 0;\n",
              "      width: 32px;\n",
              "    }\n",
              "\n",
              "    .colab-df-convert:hover {\n",
              "      background-color: #E2EBFA;\n",
              "      box-shadow: 0px 1px 2px rgba(60, 64, 67, 0.3), 0px 1px 3px 1px rgba(60, 64, 67, 0.15);\n",
              "      fill: #174EA6;\n",
              "    }\n",
              "\n",
              "    [theme=dark] .colab-df-convert {\n",
              "      background-color: #3B4455;\n",
              "      fill: #D2E3FC;\n",
              "    }\n",
              "\n",
              "    [theme=dark] .colab-df-convert:hover {\n",
              "      background-color: #434B5C;\n",
              "      box-shadow: 0px 1px 3px 1px rgba(0, 0, 0, 0.15);\n",
              "      filter: drop-shadow(0px 1px 2px rgba(0, 0, 0, 0.3));\n",
              "      fill: #FFFFFF;\n",
              "    }\n",
              "  </style>\n",
              "\n",
              "      <script>\n",
              "        const buttonEl =\n",
              "          document.querySelector('#df-f0c92092-d302-42bf-87b1-743de570085f button.colab-df-convert');\n",
              "        buttonEl.style.display =\n",
              "          google.colab.kernel.accessAllowed ? 'block' : 'none';\n",
              "\n",
              "        async function convertToInteractive(key) {\n",
              "          const element = document.querySelector('#df-f0c92092-d302-42bf-87b1-743de570085f');\n",
              "          const dataTable =\n",
              "            await google.colab.kernel.invokeFunction('convertToInteractive',\n",
              "                                                     [key], {});\n",
              "          if (!dataTable) return;\n",
              "\n",
              "          const docLinkHtml = 'Like what you see? Visit the ' +\n",
              "            '<a target=\"_blank\" href=https://colab.research.google.com/notebooks/data_table.ipynb>data table notebook</a>'\n",
              "            + ' to learn more about interactive tables.';\n",
              "          element.innerHTML = '';\n",
              "          dataTable['output_type'] = 'display_data';\n",
              "          await google.colab.output.renderOutput(dataTable, element);\n",
              "          const docLink = document.createElement('div');\n",
              "          docLink.innerHTML = docLinkHtml;\n",
              "          element.appendChild(docLink);\n",
              "        }\n",
              "      </script>\n",
              "    </div>\n",
              "  </div>\n",
              "  "
            ],
            "text/plain": [
              "        fare_amount  fare_amount_prediction\n",
              "count  9.914000e+03             9914.000000\n",
              "mean   1.135000e+01               11.395892\n",
              "std    3.552893e-15                1.246870\n",
              "min    1.135000e+01                8.956850\n",
              "25%    1.135000e+01               10.322251\n",
              "50%    1.135000e+01               10.960687\n",
              "75%    1.135000e+01               12.663439\n",
              "max    1.135000e+01               13.805783"
            ]
          },
          "execution_count": 18,
          "metadata": {},
          "output_type": "execute_result"
        }
      ],
      "source": [
        "sample_submission.describe()"
      ]
    },
    {
      "cell_type": "code",
      "execution_count": null,
      "metadata": {
        "colab": {
          "base_uri": "https://localhost:8080/"
        },
        "id": "ch0MaDpal8E9",
        "outputId": "b550693d-0388-47ab-8162-825b9df22aab"
      },
      "outputs": [
        {
          "name": "stdout",
          "output_type": "stream",
          "text": [
            "[jovian] Detected Colab notebook...\u001b[0m\n",
            "[jovian] Please enter your API key ( from https://jovian.ai/ ):\u001b[0m\n",
            "API KEY: "
          ]
        }
      ],
      "source": [
        "jovian.commit()"
      ]
    }
  ],
  "metadata": {
    "colab": {
      "name": "NewWorkTaxiFarePredictionJovian.ipynb",
      "provenance": [],
      "include_colab_link": true
    },
    "kernelspec": {
      "display_name": "Python 3",
      "name": "python3"
    },
    "language_info": {
      "name": "python"
    }
  },
  "nbformat": 4,
  "nbformat_minor": 0
}